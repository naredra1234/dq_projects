{
 "cells": [
  {
   "cell_type": "code",
   "execution_count": 161,
   "metadata": {
    "collapsed": true
   },
   "outputs": [],
   "source": [
    "import pandas as pd"
   ]
  },
  {
   "cell_type": "code",
   "execution_count": 162,
   "metadata": {
    "collapsed": true
   },
   "outputs": [],
   "source": [
    "star_wars = pd.read_csv(\"star_wars.csv\", encoding=\"ISO-8859-1\")"
   ]
  },
  {
   "cell_type": "code",
   "execution_count": 163,
   "metadata": {
    "collapsed": true
   },
   "outputs": [],
   "source": [
    "star_wars = star_wars[star_wars[\"RespondentID\"].notnull()]"
   ]
  },
  {
   "cell_type": "code",
   "execution_count": 164,
   "metadata": {
    "collapsed": false
   },
   "outputs": [
    {
     "data": {
      "text/plain": [
       "Yes    936\n",
       "No     250\n",
       "Name: Have you seen any of the 6 films in the Star Wars franchise?, dtype: int64"
      ]
     },
     "execution_count": 164,
     "metadata": {},
     "output_type": "execute_result"
    }
   ],
   "source": [
    "star_wars[\"Have you seen any of the 6 films in the Star Wars franchise?\"].value_counts()"
   ]
  },
  {
   "cell_type": "code",
   "execution_count": 165,
   "metadata": {
    "collapsed": false
   },
   "outputs": [
    {
     "data": {
      "text/plain": [
       "Yes    552\n",
       "No     284\n",
       "Name: Do you consider yourself to be a fan of the Star Wars film franchise?, dtype: int64"
      ]
     },
     "execution_count": 165,
     "metadata": {},
     "output_type": "execute_result"
    }
   ],
   "source": [
    "star_wars[\"Do you consider yourself to be a fan of the Star Wars film franchise?\"].value_counts()"
   ]
  },
  {
   "cell_type": "code",
   "execution_count": 166,
   "metadata": {
    "collapsed": true
   },
   "outputs": [],
   "source": [
    "yes_no = {\"Yes\": True, \"No\": False}"
   ]
  },
  {
   "cell_type": "code",
   "execution_count": 167,
   "metadata": {
    "collapsed": true
   },
   "outputs": [],
   "source": [
    "columns = [\"Have you seen any of the 6 films in the Star Wars franchise?\",\n",
    "           \"Do you consider yourself to be a fan of the Star Wars film franchise?\"\n",
    "          ]"
   ]
  },
  {
   "cell_type": "code",
   "execution_count": 168,
   "metadata": {
    "collapsed": true
   },
   "outputs": [],
   "source": [
    "for column in columns:\n",
    "    star_wars[column] = star_wars[column].map(yes_no)"
   ]
  },
  {
   "cell_type": "code",
   "execution_count": 169,
   "metadata": {
    "collapsed": false
   },
   "outputs": [],
   "source": [
    "check_true_false = {\n",
    "    'Star Wars: Episode I  The Phantom Menace': True,\n",
    "    'Star Wars: Episode II  Attack of the Clones': True,\n",
    "    'Star Wars: Episode III  Revenge of the Sith' : True,\n",
    "    'Star Wars: Episode IV  A New Hope': True,\n",
    "    'Star Wars: Episode V The Empire Strikes Back': True,\n",
    "    'Star Wars: Episode VI Return of the Jedi': True\n",
    "}"
   ]
  },
  {
   "cell_type": "code",
   "execution_count": 170,
   "metadata": {
    "collapsed": true
   },
   "outputs": [],
   "source": [
    "columns = star_wars.columns.tolist()[3:9]\n",
    "for column in columns:\n",
    "    star_wars[column] = star_wars[column].map(check_true_false)"
   ]
  },
  {
   "cell_type": "code",
   "execution_count": 171,
   "metadata": {
    "collapsed": false
   },
   "outputs": [],
   "source": [
    "star_wars = star_wars.rename(columns={\n",
    "    \"Which of the following Star Wars films have you seen? Please select all that apply.\":\"seen_1\",\n",
    "    \"Unnamed: 4\":\"seen_2\",\n",
    "    \"Unnamed: 5\":\"seen_3\",\n",
    "    \"Unnamed: 6\":\"seen_4\",\n",
    "    \"Unnamed: 7\":\"seen_5\",\n",
    "    \"Unnamed: 8\":\"seen_6\",})"
   ]
  },
  {
   "cell_type": "code",
   "execution_count": 172,
   "metadata": {
    "collapsed": false
   },
   "outputs": [],
   "source": [
    "star_wars[star_wars.columns[9:15]] = star_wars[star_wars.columns[9:15]].astype(float)"
   ]
  },
  {
   "cell_type": "code",
   "execution_count": 173,
   "metadata": {
    "collapsed": false
   },
   "outputs": [
    {
     "data": {
      "text/plain": [
       "Index(['Please rank the Star Wars films in order of preference with 1 being your favorite film in the franchise and 6 being your least favorite film.',\n",
       "       'Unnamed: 10', 'Unnamed: 11', 'Unnamed: 12', 'Unnamed: 13',\n",
       "       'Unnamed: 14'],\n",
       "      dtype='object')"
      ]
     },
     "execution_count": 173,
     "metadata": {},
     "output_type": "execute_result"
    }
   ],
   "source": [
    "star_wars.columns[9:15]"
   ]
  },
  {
   "cell_type": "code",
   "execution_count": 174,
   "metadata": {
    "collapsed": true
   },
   "outputs": [],
   "source": [
    "star_wars = star_wars.rename(columns = {\n",
    "    \"Please rank the Star Wars films in order of preference with 1 being your favorite film in the franchise and 6 being your least favorite film.\":\"ranking_1\",\n",
    "    \"Unnamed: 10\":\"ranking_2\",\n",
    "    \"Unnamed: 11\":\"ranking_3\",\n",
    "    \"Unnamed: 12\":\"ranking_4\",\n",
    "    \"Unnamed: 13\":\"ranking_5\",\n",
    "    \"Unnamed: 14\":\"ranking_6\",\n",
    "})"
   ]
  },
  {
   "cell_type": "code",
   "execution_count": 175,
   "metadata": {
    "collapsed": true
   },
   "outputs": [],
   "source": [
    "columns = [\"ranking_1\",\"ranking_2\", \"ranking_3\", \"ranking_4\", \"ranking_5\", \"ranking_6\"]"
   ]
  },
  {
   "cell_type": "code",
   "execution_count": 176,
   "metadata": {
    "collapsed": false
   },
   "outputs": [
    {
     "name": "stdout",
     "output_type": "stream",
     "text": [
      "ranking_1:3.73293413174\n",
      "ranking_2:4.08732057416\n",
      "ranking_3:4.34131736527\n",
      "ranking_4:3.27272727273\n",
      "ranking_5:2.51315789474\n",
      "ranking_6:3.04784688995\n"
     ]
    }
   ],
   "source": [
    "for column in columns:\n",
    "    print (column + \":\" + str(star_wars[column].mean()))"
   ]
  },
  {
   "cell_type": "code",
   "execution_count": 177,
   "metadata": {
    "collapsed": true
   },
   "outputs": [],
   "source": [
    "import matplotlib.pyplot as plt"
   ]
  },
  {
   "cell_type": "code",
   "execution_count": 178,
   "metadata": {
    "collapsed": true
   },
   "outputs": [],
   "source": [
    "%matplotlib inline"
   ]
  },
  {
   "cell_type": "code",
   "execution_count": 179,
   "metadata": {
    "collapsed": false
   },
   "outputs": [
    {
     "data": {
      "text/plain": [
       "Index(['RespondentID',\n",
       "       'Have you seen any of the 6 films in the Star Wars franchise?',\n",
       "       'Do you consider yourself to be a fan of the Star Wars film franchise?',\n",
       "       'seen_1', 'seen_2', 'seen_3', 'seen_4', 'seen_5', 'seen_6', 'ranking_1',\n",
       "       'ranking_2', 'ranking_3', 'ranking_4', 'ranking_5', 'ranking_6',\n",
       "       'Please state whether you view the following characters favorably, unfavorably, or are unfamiliar with him/her.',\n",
       "       'Unnamed: 16', 'Unnamed: 17', 'Unnamed: 18', 'Unnamed: 19',\n",
       "       'Unnamed: 20', 'Unnamed: 21', 'Unnamed: 22', 'Unnamed: 23',\n",
       "       'Unnamed: 24', 'Unnamed: 25', 'Unnamed: 26', 'Unnamed: 27',\n",
       "       'Unnamed: 28', 'Which character shot first?',\n",
       "       'Are you familiar with the Expanded Universe?',\n",
       "       'Do you consider yourself to be a fan of the Expanded Universe?ÂÃ¦',\n",
       "       'Do you consider yourself to be a fan of the Star Trek franchise?',\n",
       "       'Gender', 'Age', 'Household Income', 'Education',\n",
       "       'Location (Census Region)'],\n",
       "      dtype='object')"
      ]
     },
     "execution_count": 179,
     "metadata": {},
     "output_type": "execute_result"
    }
   ],
   "source": [
    "star_wars.columns"
   ]
  },
  {
   "cell_type": "code",
   "execution_count": 180,
   "metadata": {
    "collapsed": false
   },
   "outputs": [],
   "source": [
    "new_star_wars = pd.DataFrame()\n",
    "for column in ['seen_1', 'seen_2', 'seen_3', 'seen_4', 'seen_5', 'seen_6']:\n",
    "    new_star_wars = pd.concat([new_star_wars,star_wars.groupby(column).agg({\"ranking_1\":\"mean\",\"ranking_2\":\"mean\", \"ranking_3\":\"mean\",\"ranking_4\":\"mean\",\"ranking_5\":\"mean\"})])"
   ]
  },
  {
   "cell_type": "code",
   "execution_count": 181,
   "metadata": {
    "collapsed": false
   },
   "outputs": [],
   "source": [
    "new_star_wars[\"rank\"] = new_star_wars[\"ranking_1\"] + new_star_wars[\"ranking_2\"] + new_star_wars[\"ranking_3\"] + new_star_wars[\"ranking_4\"] + new_star_wars[\"ranking_5\"]"
   ]
  },
  {
   "cell_type": "code",
   "execution_count": 182,
   "metadata": {
    "collapsed": false
   },
   "outputs": [
    {
     "data": {
      "text/html": [
       "<div>\n",
       "<table border=\"1\" class=\"dataframe\">\n",
       "  <thead>\n",
       "    <tr style=\"text-align: right;\">\n",
       "      <th></th>\n",
       "      <th>ranking_4</th>\n",
       "      <th>ranking_2</th>\n",
       "      <th>ranking_1</th>\n",
       "      <th>ranking_3</th>\n",
       "      <th>ranking_5</th>\n",
       "      <th>rank</th>\n",
       "    </tr>\n",
       "  </thead>\n",
       "  <tbody>\n",
       "    <tr>\n",
       "      <th>True</th>\n",
       "      <td>3.141159</td>\n",
       "      <td>4.096582</td>\n",
       "      <td>3.787519</td>\n",
       "      <td>4.294643</td>\n",
       "      <td>2.564636</td>\n",
       "      <td>17.884539</td>\n",
       "    </tr>\n",
       "    <tr>\n",
       "      <th>True</th>\n",
       "      <td>3.073555</td>\n",
       "      <td>4.126095</td>\n",
       "      <td>4.010508</td>\n",
       "      <td>4.243860</td>\n",
       "      <td>2.497373</td>\n",
       "      <td>17.951390</td>\n",
       "    </tr>\n",
       "    <tr>\n",
       "      <th>True</th>\n",
       "      <td>3.078182</td>\n",
       "      <td>4.220000</td>\n",
       "      <td>4.100000</td>\n",
       "      <td>4.158470</td>\n",
       "      <td>2.456364</td>\n",
       "      <td>18.013015</td>\n",
       "    </tr>\n",
       "    <tr>\n",
       "      <th>True</th>\n",
       "      <td>2.650741</td>\n",
       "      <td>4.393740</td>\n",
       "      <td>4.179572</td>\n",
       "      <td>4.491749</td>\n",
       "      <td>2.380560</td>\n",
       "      <td>18.096362</td>\n",
       "    </tr>\n",
       "    <tr>\n",
       "      <th>True</th>\n",
       "      <td>3.196570</td>\n",
       "      <td>4.257256</td>\n",
       "      <td>3.937913</td>\n",
       "      <td>4.453104</td>\n",
       "      <td>2.299472</td>\n",
       "      <td>18.144315</td>\n",
       "    </tr>\n",
       "    <tr>\n",
       "      <th>True</th>\n",
       "      <td>3.166667</td>\n",
       "      <td>4.281843</td>\n",
       "      <td>3.991870</td>\n",
       "      <td>4.462687</td>\n",
       "      <td>2.356369</td>\n",
       "      <td>18.259435</td>\n",
       "    </tr>\n",
       "  </tbody>\n",
       "</table>\n",
       "</div>"
      ],
      "text/plain": [
       "      ranking_4  ranking_2  ranking_1  ranking_3  ranking_5       rank\n",
       "True   3.141159   4.096582   3.787519   4.294643   2.564636  17.884539\n",
       "True   3.073555   4.126095   4.010508   4.243860   2.497373  17.951390\n",
       "True   3.078182   4.220000   4.100000   4.158470   2.456364  18.013015\n",
       "True   2.650741   4.393740   4.179572   4.491749   2.380560  18.096362\n",
       "True   3.196570   4.257256   3.937913   4.453104   2.299472  18.144315\n",
       "True   3.166667   4.281843   3.991870   4.462687   2.356369  18.259435"
      ]
     },
     "execution_count": 182,
     "metadata": {},
     "output_type": "execute_result"
    }
   ],
   "source": [
    "new_star_wars"
   ]
  },
  {
   "cell_type": "code",
   "execution_count": 183,
   "metadata": {
    "collapsed": false
   },
   "outputs": [
    {
     "data": {
      "text/plain": [
       "<matplotlib.axes._subplots.AxesSubplot at 0x7f9ca4f44be0>"
      ]
     },
     "execution_count": 183,
     "metadata": {},
     "output_type": "execute_result"
    },
    {
     "data": {
      "image/png": "[encoded data removed]",
      "text/plain": [
       "<matplotlib.figure.Figure at 0x7f9ca33ef780>"
      ]
     },
     "metadata": {},
     "output_type": "display_data"
    }
   ],
   "source": [
    "new_star_wars[\"rank\"].plot(kind=\"bar\", ylim=(0,20), figsize=(16,15))"
   ]
  },
  {
   "cell_type": "code",
   "execution_count": 184,
   "metadata": {
    "collapsed": true
   },
   "outputs": [],
   "source": [
    "males = star_wars[star_wars[\"Gender\"] == \"Male\"]"
   ]
  },
  {
   "cell_type": "code",
   "execution_count": 185,
   "metadata": {
    "collapsed": true
   },
   "outputs": [],
   "source": [
    "females = star_wars[star_wars[\"Gender\"] == \"Female\"]"
   ]
  },
  {
   "cell_type": "code",
   "execution_count": 186,
   "metadata": {
    "collapsed": true
   },
   "outputs": [],
   "source": [
    "#star_wars.plot.bar(\"ranking_1\")\n",
    "#plt.show()\n",
    "new_star_wars = pd.DataFrame()\n",
    "for column in ['seen_1', 'seen_2', 'seen_3', 'seen_4', 'seen_5', 'seen_6']:\n",
    "    new_star_wars = pd.concat([new_star_wars,star_wars.groupby(column).agg({\"seen_1\":\"sum\",\"seen_2\":\"sum\", \"seen_3\":\"sum\",\"seen_4\":\"sum\",\"seen_5\":\"sum\"})])"
   ]
  },
  {
   "cell_type": "code",
   "execution_count": 187,
   "metadata": {
    "collapsed": true
   },
   "outputs": [],
   "source": [
    "new_star_wars[\"viewed\"] = new_star_wars[\"seen_1\"] + new_star_wars[\"seen_2\"] + new_star_wars[\"seen_3\"] + new_star_wars[\"seen_4\"] + new_star_wars[\"seen_5\"]"
   ]
  },
  {
   "cell_type": "code",
   "execution_count": 188,
   "metadata": {
    "collapsed": false
   },
   "outputs": [
    {
     "data": {
      "text/html": [
       "<div>\n",
       "<table border=\"1\" class=\"dataframe\">\n",
       "  <thead>\n",
       "    <tr style=\"text-align: right;\">\n",
       "      <th></th>\n",
       "      <th>seen_1</th>\n",
       "      <th>seen_2</th>\n",
       "      <th>seen_3</th>\n",
       "      <th>seen_5</th>\n",
       "      <th>seen_4</th>\n",
       "      <th>viewed</th>\n",
       "    </tr>\n",
       "  </thead>\n",
       "  <tbody>\n",
       "    <tr>\n",
       "      <th>True</th>\n",
       "      <td>673</td>\n",
       "      <td>554</td>\n",
       "      <td>526</td>\n",
       "      <td>613</td>\n",
       "      <td>540</td>\n",
       "      <td>2906</td>\n",
       "    </tr>\n",
       "    <tr>\n",
       "      <th>True</th>\n",
       "      <td>554</td>\n",
       "      <td>571</td>\n",
       "      <td>526</td>\n",
       "      <td>539</td>\n",
       "      <td>496</td>\n",
       "      <td>2686</td>\n",
       "    </tr>\n",
       "    <tr>\n",
       "      <th>True</th>\n",
       "      <td>526</td>\n",
       "      <td>526</td>\n",
       "      <td>550</td>\n",
       "      <td>527</td>\n",
       "      <td>488</td>\n",
       "      <td>2617</td>\n",
       "    </tr>\n",
       "    <tr>\n",
       "      <th>True</th>\n",
       "      <td>540</td>\n",
       "      <td>496</td>\n",
       "      <td>488</td>\n",
       "      <td>597</td>\n",
       "      <td>607</td>\n",
       "      <td>2728</td>\n",
       "    </tr>\n",
       "    <tr>\n",
       "      <th>True</th>\n",
       "      <td>613</td>\n",
       "      <td>539</td>\n",
       "      <td>527</td>\n",
       "      <td>758</td>\n",
       "      <td>597</td>\n",
       "      <td>3034</td>\n",
       "    </tr>\n",
       "    <tr>\n",
       "      <th>True</th>\n",
       "      <td>605</td>\n",
       "      <td>540</td>\n",
       "      <td>529</td>\n",
       "      <td>723</td>\n",
       "      <td>596</td>\n",
       "      <td>2993</td>\n",
       "    </tr>\n",
       "  </tbody>\n",
       "</table>\n",
       "</div>"
      ],
      "text/plain": [
       "      seen_1  seen_2  seen_3  seen_5  seen_4  viewed\n",
       "True     673     554     526     613     540    2906\n",
       "True     554     571     526     539     496    2686\n",
       "True     526     526     550     527     488    2617\n",
       "True     540     496     488     597     607    2728\n",
       "True     613     539     527     758     597    3034\n",
       "True     605     540     529     723     596    2993"
      ]
     },
     "execution_count": 188,
     "metadata": {},
     "output_type": "execute_result"
    }
   ],
   "source": [
    "new_star_wars"
   ]
  },
  {
   "cell_type": "code",
   "execution_count": 189,
   "metadata": {
    "collapsed": false
   },
   "outputs": [
    {
     "data": {
      "text/plain": [
       "<matplotlib.axes._subplots.AxesSubplot at 0x7f9c9e9cbe80>"
      ]
     },
     "execution_count": 189,
     "metadata": {},
     "output_type": "execute_result"
    },
    {
     "data": {
      "image/png": "[encoded data removed]",
      "text/plain": [
       "<matplotlib.figure.Figure at 0x7f9ceb1ad4a8>"
      ]
     },
     "metadata": {},
     "output_type": "display_data"
    }
   ],
   "source": [
    "new_star_wars[\"viewed\"].plot(kind=\"bar\", ylim=(500,4000), figsize=(16,15))"
   ]
  },
  {
   "cell_type": "code",
   "execution_count": null,
   "metadata": {
    "collapsed": true
   },
   "outputs": [],
   "source": []
  }
 ],
 "metadata": {
  "kernelspec": {
   "display_name": "Python 3",
   "language": "python",
   "name": "python3"
  },
  "language_info": {
   "codemirror_mode": {
    "name": "ipython",
    "version": 3
   },
   "file_extension": ".py",
   "mimetype": "text/x-python",
   "name": "python",
   "nbconvert_exporter": "python",
   "pygments_lexer": "ipython3",
   "version": "3.4.3"
  }
 },
 "nbformat": 4,
 "nbformat_minor": 0
}
