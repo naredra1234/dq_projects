{
 "cells": [
  {
   "cell_type": "code",
   "execution_count": 256,
   "metadata": {
    "collapsed": true
   },
   "outputs": [],
   "source": [
    "import sqlite3\n",
    "import pandas as pd\n",
    "import matplotlib.pyplot as plt\n",
    "from matplotlib import cm\n",
    "%matplotlib inline\n",
    "import numpy as np\n",
    "db = 'chinook.db'"
   ]
  },
  {
   "cell_type": "code",
   "execution_count": 257,
   "metadata": {
    "collapsed": true
   },
   "outputs": [],
   "source": [
    "def run_query(q):\n",
    "    with sqlite3.connect(\"chinook.db\") as conn:\n",
    "        return pd.read_sql_query(q, conn)"
   ]
  },
  {
   "cell_type": "code",
   "execution_count": 258,
   "metadata": {
    "collapsed": true
   },
   "outputs": [],
   "source": [
    "def run_command(q):\n",
    "    with sqlite3.connect(\"chinook.db\") as conn:\n",
    "        results = conn.execute(q).fetchall()\n",
    "        return results"
   ]
  },
  {
   "cell_type": "code",
   "execution_count": 259,
   "metadata": {
    "collapsed": false
   },
   "outputs": [],
   "source": [
    "def show_tables():\n",
    "    print (run_query(\"select \\\n",
    "              name, \\\n",
    "              type \\\n",
    "              FROM sqlite_master where type IN ('table','view')\")\n",
    "           )"
   ]
  },
  {
   "cell_type": "code",
   "execution_count": 260,
   "metadata": {
    "collapsed": false
   },
   "outputs": [
    {
     "name": "stdout",
     "output_type": "stream",
     "text": [
      "              name   type\n",
      "0            album  table\n",
      "1           artist  table\n",
      "2         customer  table\n",
      "3         employee  table\n",
      "4            genre  table\n",
      "5          invoice  table\n",
      "6     invoice_line  table\n",
      "7       media_type  table\n",
      "8         playlist  table\n",
      "9   playlist_track  table\n",
      "10           track  table\n"
     ]
    }
   ],
   "source": [
    "show_tables()"
   ]
  },
  {
   "cell_type": "markdown",
   "metadata": {},
   "source": [
    "<h1>Number of tracks, percentage per genre</h1>"
   ]
  },
  {
   "cell_type": "code",
   "execution_count": 261,
   "metadata": {
    "collapsed": false,
    "scrolled": true
   },
   "outputs": [],
   "source": [
    "sq_genre=\"select \\\n",
    "count(t.track_id) as num_count, \\\n",
    "g.name as genre , \\\n",
    "cast(count(t.track_id) as float)/cast((select count(track_id) from track t) as float) percentage \\\n",
    "from track t \\\n",
    "inner join genre g on g.genre_id = t.genre_id \\\n",
    "group by g.name \\\n",
    "order by 1 desc \\\n",
    "LIMIT 10\""
   ]
  },
  {
   "cell_type": "code",
   "execution_count": 262,
   "metadata": {
    "collapsed": false
   },
   "outputs": [],
   "source": [
    "df_genre = run_query(sq_genre)"
   ]
  },
  {
   "cell_type": "code",
   "execution_count": 263,
   "metadata": {
    "collapsed": false
   },
   "outputs": [],
   "source": [
    "df_genre = df_genre.set_index(\"genre\")"
   ]
  },
  {
   "cell_type": "code",
   "execution_count": 264,
   "metadata": {
    "collapsed": false
   },
   "outputs": [
    {
     "data": {
      "text/html": [
       "<div>\n",
       "<table border=\"1\" class=\"dataframe\">\n",
       "  <thead>\n",
       "    <tr style=\"text-align: right;\">\n",
       "      <th></th>\n",
       "      <th>num_count</th>\n",
       "      <th>percentage</th>\n",
       "    </tr>\n",
       "    <tr>\n",
       "      <th>genre</th>\n",
       "      <th></th>\n",
       "      <th></th>\n",
       "    </tr>\n",
       "  </thead>\n",
       "  <tbody>\n",
       "    <tr>\n",
       "      <th>Rock</th>\n",
       "      <td>1297</td>\n",
       "      <td>0.370254</td>\n",
       "    </tr>\n",
       "    <tr>\n",
       "      <th>Latin</th>\n",
       "      <td>579</td>\n",
       "      <td>0.165287</td>\n",
       "    </tr>\n",
       "    <tr>\n",
       "      <th>Metal</th>\n",
       "      <td>374</td>\n",
       "      <td>0.106766</td>\n",
       "    </tr>\n",
       "    <tr>\n",
       "      <th>Alternative &amp; Punk</th>\n",
       "      <td>332</td>\n",
       "      <td>0.094776</td>\n",
       "    </tr>\n",
       "    <tr>\n",
       "      <th>Jazz</th>\n",
       "      <td>130</td>\n",
       "      <td>0.037111</td>\n",
       "    </tr>\n",
       "    <tr>\n",
       "      <th>TV Shows</th>\n",
       "      <td>93</td>\n",
       "      <td>0.026549</td>\n",
       "    </tr>\n",
       "    <tr>\n",
       "      <th>Blues</th>\n",
       "      <td>81</td>\n",
       "      <td>0.023123</td>\n",
       "    </tr>\n",
       "    <tr>\n",
       "      <th>Classical</th>\n",
       "      <td>74</td>\n",
       "      <td>0.021125</td>\n",
       "    </tr>\n",
       "    <tr>\n",
       "      <th>Drama</th>\n",
       "      <td>64</td>\n",
       "      <td>0.018270</td>\n",
       "    </tr>\n",
       "    <tr>\n",
       "      <th>R&amp;B/Soul</th>\n",
       "      <td>61</td>\n",
       "      <td>0.017414</td>\n",
       "    </tr>\n",
       "  </tbody>\n",
       "</table>\n",
       "</div>"
      ],
      "text/plain": [
       "                    num_count  percentage\n",
       "genre                                    \n",
       "Rock                     1297    0.370254\n",
       "Latin                     579    0.165287\n",
       "Metal                     374    0.106766\n",
       "Alternative & Punk        332    0.094776\n",
       "Jazz                      130    0.037111\n",
       "TV Shows                   93    0.026549\n",
       "Blues                      81    0.023123\n",
       "Classical                  74    0.021125\n",
       "Drama                      64    0.018270\n",
       "R&B/Soul                   61    0.017414"
      ]
     },
     "execution_count": 264,
     "metadata": {},
     "output_type": "execute_result"
    }
   ],
   "source": [
    "df_genre"
   ]
  },
  {
   "cell_type": "code",
   "execution_count": 265,
   "metadata": {
    "collapsed": false
   },
   "outputs": [
    {
     "data": {
      "image/png": "[encoded data removed]",
      "text/plain": [
       "<matplotlib.figure.Figure at 0x7f92cd7f9a20>"
      ]
     },
     "metadata": {},
     "output_type": "display_data"
    }
   ],
   "source": [
    "df_genre[\"num_count\"].plot(kind='barh', title=\"Top Selling Genres\", \n",
    "                           xlim=(0,1500), colormap=plt.cm.Accent)\n",
    "\n",
    "#plt.ylabel('')\n",
    "\n",
    "for i,lable in enumerate(list(df_genre.index)):\n",
    "    score=df_genre.loc[lable, \"num_count\"]\n",
    "    label=(df_genre.loc[lable, \"percentage\"]*100).astype(int).astype(str) +'%'\n",
    "    plt.annotate(str(label), (score+10, i-0.15))\n",
    "\n",
    "plt.show()    "
   ]
  },
  {
   "cell_type": "markdown",
   "metadata": {},
   "source": [
    "<h4>Observations:</h4>\n",
    "- Rock is first popular 37%\n",
    "- Latin is second popular 16%\n",
    "- Metal is next to Lartin 10%"
   ]
  },
  {
   "cell_type": "markdown",
   "metadata": {},
   "source": [
    "<h1> Tracks per album and artist </h1>"
   ]
  },
  {
   "cell_type": "code",
   "execution_count": 266,
   "metadata": {
    "collapsed": false
   },
   "outputs": [],
   "source": [
    "sq_album = \"select \\\n",
    "count(t.track_id) as num_tracks ,\\\n",
    "a.title as album ,\\\n",
    "ar.name as artist \\\n",
    "from track t \\\n",
    "inner join album a on a.album_id = t.album_id \\\n",
    "inner join artist ar on ar.artist_id = a.artist_id \\\n",
    "group by a.title, ar.name \\\n",
    "order by count(t.track_id) desc \\\n",
    "LIMIT 10\""
   ]
  },
  {
   "cell_type": "code",
   "execution_count": 267,
   "metadata": {
    "collapsed": false
   },
   "outputs": [],
   "source": [
    "df_album = run_query(sq_album)"
   ]
  },
  {
   "cell_type": "code",
   "execution_count": 268,
   "metadata": {
    "collapsed": false
   },
   "outputs": [
    {
     "data": {
      "text/html": [
       "<div>\n",
       "<table border=\"1\" class=\"dataframe\">\n",
       "  <thead>\n",
       "    <tr style=\"text-align: right;\">\n",
       "      <th></th>\n",
       "      <th>num_tracks</th>\n",
       "      <th>album</th>\n",
       "      <th>artist</th>\n",
       "    </tr>\n",
       "  </thead>\n",
       "  <tbody>\n",
       "    <tr>\n",
       "      <th>0</th>\n",
       "      <td>57</td>\n",
       "      <td>Greatest Hits</td>\n",
       "      <td>Lenny Kravitz</td>\n",
       "    </tr>\n",
       "    <tr>\n",
       "      <th>1</th>\n",
       "      <td>34</td>\n",
       "      <td>Minha Historia</td>\n",
       "      <td>Chico Buarque</td>\n",
       "    </tr>\n",
       "    <tr>\n",
       "      <th>2</th>\n",
       "      <td>30</td>\n",
       "      <td>Unplugged</td>\n",
       "      <td>Eric Clapton</td>\n",
       "    </tr>\n",
       "    <tr>\n",
       "      <th>3</th>\n",
       "      <td>26</td>\n",
       "      <td>Lost, Season 3</td>\n",
       "      <td>Lost</td>\n",
       "    </tr>\n",
       "    <tr>\n",
       "      <th>4</th>\n",
       "      <td>25</td>\n",
       "      <td>Lost, Season 1</td>\n",
       "      <td>Lost</td>\n",
       "    </tr>\n",
       "  </tbody>\n",
       "</table>\n",
       "</div>"
      ],
      "text/plain": [
       "   num_tracks           album         artist\n",
       "0          57   Greatest Hits  Lenny Kravitz\n",
       "1          34  Minha Historia  Chico Buarque\n",
       "2          30       Unplugged   Eric Clapton\n",
       "3          26  Lost, Season 3           Lost\n",
       "4          25  Lost, Season 1           Lost"
      ]
     },
     "execution_count": 268,
     "metadata": {},
     "output_type": "execute_result"
    }
   ],
   "source": [
    "df_album.head()"
   ]
  },
  {
   "cell_type": "markdown",
   "metadata": {
    "collapsed": true
   },
   "source": [
    "<h4> Observations  </h4>\n",
    "- artist Lenny Kravitz (album: Greatest Hits)\n",
    "- artist Chico Buarque (album: Minha Historia)\n",
    "- artish Eric Clapton  (album: Unplugged)"
   ]
  },
  {
   "cell_type": "markdown",
   "metadata": {},
   "source": [
    "<h1> Sales per sales support agent </h1>"
   ]
  },
  {
   "cell_type": "code",
   "execution_count": 269,
   "metadata": {
    "collapsed": false
   },
   "outputs": [],
   "source": [
    "sq_dollors = \"select sum(total) as amount ,\\\n",
    "e.first_name ||'_'|| e.last_name as name \\\n",
    "from invoice i \\\n",
    "inner join customer c on i.customer_id = c.support_rep_id \\\n",
    "inner join employee e on c.support_rep_id = e.employee_id \\\n",
    "group by e.first_name, e.last_name \\\n",
    "order by sum(total) asc \\\n",
    "LIMIT 15\""
   ]
  },
  {
   "cell_type": "code",
   "execution_count": 270,
   "metadata": {
    "collapsed": false
   },
   "outputs": [],
   "source": [
    "df_dollors = run_query(sq_dollors)"
   ]
  },
  {
   "cell_type": "code",
   "execution_count": 271,
   "metadata": {
    "collapsed": false
   },
   "outputs": [
    {
     "data": {
      "text/html": [
       "<div>\n",
       "<table border=\"1\" class=\"dataframe\">\n",
       "  <thead>\n",
       "    <tr style=\"text-align: right;\">\n",
       "      <th></th>\n",
       "      <th>amount</th>\n",
       "      <th>name</th>\n",
       "    </tr>\n",
       "  </thead>\n",
       "  <tbody>\n",
       "    <tr>\n",
       "      <th>0</th>\n",
       "      <td>1445.40</td>\n",
       "      <td>Margaret_Park</td>\n",
       "    </tr>\n",
       "    <tr>\n",
       "      <th>1</th>\n",
       "      <td>2099.79</td>\n",
       "      <td>Jane_Peacock</td>\n",
       "    </tr>\n",
       "    <tr>\n",
       "      <th>2</th>\n",
       "      <td>2601.72</td>\n",
       "      <td>Steve_Johnson</td>\n",
       "    </tr>\n",
       "  </tbody>\n",
       "</table>\n",
       "</div>"
      ],
      "text/plain": [
       "    amount           name\n",
       "0  1445.40  Margaret_Park\n",
       "1  2099.79   Jane_Peacock\n",
       "2  2601.72  Steve_Johnson"
      ]
     },
     "execution_count": 271,
     "metadata": {},
     "output_type": "execute_result"
    }
   ],
   "source": [
    "df_dollors.head()"
   ]
  },
  {
   "cell_type": "code",
   "execution_count": 272,
   "metadata": {
    "collapsed": true
   },
   "outputs": [],
   "source": [
    "df_dollors.columns = [\"amount\", \"name\"]"
   ]
  },
  {
   "cell_type": "code",
   "execution_count": 273,
   "metadata": {
    "collapsed": false
   },
   "outputs": [],
   "source": [
    "df_dollors = df_dollors.set_index(\"name\")"
   ]
  },
  {
   "cell_type": "code",
   "execution_count": 274,
   "metadata": {
    "collapsed": false
   },
   "outputs": [
    {
     "data": {
      "image/png": "[encoded data removed]",
      "text/plain": [
       "<matplotlib.figure.Figure at 0x7f92cd606630>"
      ]
     },
     "metadata": {},
     "output_type": "display_data"
    }
   ],
   "source": [
    "df_dollors.plot(kind=\"barh\", title='Sales per sales support agent',\n",
    "               colormap=plt.cm.Accent,legend=False)\n",
    "plt.ylabel(\"\")\n",
    "plt.show()"
   ]
  },
  {
   "cell_type": "markdown",
   "metadata": {},
   "source": [
    "<h4> Observations </h4>\n",
    "- Only three sales representatives\n",
    "- Ranking in sales\n",
    " - Steve_Johnson\n",
    " - Jane_Peacock\n",
    " - Margaret_Park"
   ]
  },
  {
   "cell_type": "markdown",
   "metadata": {},
   "source": [
    "<h1> Purchases Per Country </h1>"
   ]
  },
  {
   "cell_type": "code",
   "execution_count": 275,
   "metadata": {
    "collapsed": false
   },
   "outputs": [],
   "source": [
    "sq_purchases = \" with tn_customers_per_country as\\\n",
    "(select count(distinct c.customer_id) as num_customers,\\\n",
    "c.country as country \\\n",
    "from customer c group by c.country),\\\n",
    "tv_sales as \\\n",
    "(select sum(i.total) as total_sales, \\\n",
    "count(i.invoice_id) as total_orders,\\\n",
    "c.country as country \\\n",
    "from invoice i \\\n",
    "inner join customer c on c.customer_id = i.customer_id \\\n",
    "group by c.country)\\\n",
    "select tcpc.num_customers ,\\\n",
    "tvs.total_sales ,\\\n",
    "cast(tvs.total_sales as float)/cast(tcpc.num_customers as float) \\\n",
    "as avg_sales_per_cust, \\\n",
    "cast(tvs.total_sales as float)/cast(tvs.total_orders as float) \\\n",
    "as avg_order_value, \\\n",
    "tvs.country ,\\\n",
    "case when tcpc.num_customers=1 then 'Others' else 'Normal' end as category \\\n",
    "from tn_customers_per_country tcpc \\\n",
    "inner join tv_sales tvs on tvs.country = tcpc.country \\\n",
    "order by tvs.total_sales desc, case when tcpc.num_customers=1 then 99 else 1 end asc \\\n",
    "LIMIT 10\""
   ]
  },
  {
   "cell_type": "code",
   "execution_count": 276,
   "metadata": {
    "collapsed": false
   },
   "outputs": [],
   "source": [
    "df_purchases = run_query(sq_purchases)"
   ]
  },
  {
   "cell_type": "code",
   "execution_count": 277,
   "metadata": {
    "collapsed": false
   },
   "outputs": [
    {
     "data": {
      "text/html": [
       "<div>\n",
       "<table border=\"1\" class=\"dataframe\">\n",
       "  <thead>\n",
       "    <tr style=\"text-align: right;\">\n",
       "      <th></th>\n",
       "      <th>num_customers</th>\n",
       "      <th>total_sales</th>\n",
       "      <th>avg_sales_per_cust</th>\n",
       "      <th>avg_order_value</th>\n",
       "      <th>country</th>\n",
       "      <th>category</th>\n",
       "    </tr>\n",
       "  </thead>\n",
       "  <tbody>\n",
       "    <tr>\n",
       "      <th>0</th>\n",
       "      <td>13</td>\n",
       "      <td>1040.49</td>\n",
       "      <td>80.037692</td>\n",
       "      <td>7.942672</td>\n",
       "      <td>USA</td>\n",
       "      <td>Normal</td>\n",
       "    </tr>\n",
       "    <tr>\n",
       "      <th>1</th>\n",
       "      <td>8</td>\n",
       "      <td>535.59</td>\n",
       "      <td>66.948750</td>\n",
       "      <td>7.047237</td>\n",
       "      <td>Canada</td>\n",
       "      <td>Normal</td>\n",
       "    </tr>\n",
       "    <tr>\n",
       "      <th>2</th>\n",
       "      <td>5</td>\n",
       "      <td>427.68</td>\n",
       "      <td>85.536000</td>\n",
       "      <td>7.011148</td>\n",
       "      <td>Brazil</td>\n",
       "      <td>Normal</td>\n",
       "    </tr>\n",
       "    <tr>\n",
       "      <th>3</th>\n",
       "      <td>5</td>\n",
       "      <td>389.07</td>\n",
       "      <td>77.814000</td>\n",
       "      <td>7.781400</td>\n",
       "      <td>France</td>\n",
       "      <td>Normal</td>\n",
       "    </tr>\n",
       "    <tr>\n",
       "      <th>4</th>\n",
       "      <td>4</td>\n",
       "      <td>334.62</td>\n",
       "      <td>83.655000</td>\n",
       "      <td>8.161463</td>\n",
       "      <td>Germany</td>\n",
       "      <td>Normal</td>\n",
       "    </tr>\n",
       "  </tbody>\n",
       "</table>\n",
       "</div>"
      ],
      "text/plain": [
       "   num_customers  total_sales  avg_sales_per_cust  avg_order_value  country  \\\n",
       "0             13      1040.49           80.037692         7.942672      USA   \n",
       "1              8       535.59           66.948750         7.047237   Canada   \n",
       "2              5       427.68           85.536000         7.011148   Brazil   \n",
       "3              5       389.07           77.814000         7.781400   France   \n",
       "4              4       334.62           83.655000         8.161463  Germany   \n",
       "\n",
       "  category  \n",
       "0   Normal  \n",
       "1   Normal  \n",
       "2   Normal  \n",
       "3   Normal  \n",
       "4   Normal  "
      ]
     },
     "execution_count": 277,
     "metadata": {},
     "output_type": "execute_result"
    }
   ],
   "source": [
    "df_purchases.head()"
   ]
  },
  {
   "cell_type": "code",
   "execution_count": 278,
   "metadata": {
    "collapsed": false,
    "scrolled": true
   },
   "outputs": [
    {
     "data": {
      "image/png": "[encoded data removed]",
      "text/plain": [
       "<matplotlib.figure.Figure at 0x7f92cdc05278>"
      ]
     },
     "metadata": {},
     "output_type": "display_data"
    },
    {
     "data": {
      "image/png": "[encoded data removed]",
      "text/plain": [
       "<matplotlib.figure.Figure at 0x7f92cdd094a8>"
      ]
     },
     "metadata": {},
     "output_type": "display_data"
    },
    {
     "data": {
      "image/png": "[encoded data removed]",
      "text/plain": [
       "<matplotlib.figure.Figure at 0x7f92ce53c400>"
      ]
     },
     "metadata": {},
     "output_type": "display_data"
    },
    {
     "data": {
      "image/png": "[encoded data removed]",
      "text/plain": [
       "<matplotlib.figure.Figure at 0x7f92cd9a7048>"
      ]
     },
     "metadata": {},
     "output_type": "display_data"
    }
   ],
   "source": [
    "for column in [\"num_customers\",\"total_sales\",\"avg_sales_per_cust\",\"avg_order_value\"]:\n",
    "    df_purchases.plot(kind=\"bar\",x=\"country\",y=column, \n",
    "                      title=column+' per country',\n",
    "                      legend=False,\n",
    "                      colormap=plt.cm.Accent\n",
    "                    )"
   ]
  },
  {
   "cell_type": "code",
   "execution_count": 279,
   "metadata": {
    "collapsed": true
   },
   "outputs": [],
   "source": [
    "df_purchases=df_purchases.set_index(\"country\")"
   ]
  },
  {
   "cell_type": "code",
   "execution_count": 287,
   "metadata": {
    "collapsed": false
   },
   "outputs": [
    {
     "ename": "NameError",
     "evalue": "name 'country_metrics' is not defined",
     "output_type": "error",
     "traceback": [
      "\u001b[1;31m\u001b[0m",
      "\u001b[1;31mNameError\u001b[0mTraceback (most recent call last)",
      "\u001b[1;32m<ipython-input-287-e67081193298>\u001b[0m in \u001b[0;36m<module>\u001b[1;34m()\u001b[0m\n\u001b[1;32m----> 1\u001b[1;33m \u001b[0mcolors\u001b[0m \u001b[1;33m=\u001b[0m \u001b[1;33m[\u001b[0m\u001b[0mplt\u001b[0m\u001b[1;33m.\u001b[0m\u001b[0mcm\u001b[0m\u001b[1;33m.\u001b[0m\u001b[0mAccent\u001b[0m\u001b[1;33m(\u001b[0m\u001b[0mi\u001b[0m\u001b[1;33m)\u001b[0m \u001b[1;32mfor\u001b[0m \u001b[0mi\u001b[0m \u001b[1;32min\u001b[0m \u001b[0mnp\u001b[0m\u001b[1;33m.\u001b[0m\u001b[0mlinspace\u001b[0m\u001b[1;33m(\u001b[0m\u001b[1;36m0\u001b[0m\u001b[1;33m,\u001b[0m \u001b[1;36m1\u001b[0m\u001b[1;33m,\u001b[0m \u001b[0mcountry_metrics\u001b[0m\u001b[1;33m.\u001b[0m\u001b[0mshape\u001b[0m\u001b[1;33m[\u001b[0m\u001b[1;36m0\u001b[0m\u001b[1;33m]\u001b[0m\u001b[1;33m)\u001b[0m\u001b[1;33m]\u001b[0m\u001b[1;33m\u001b[0m\u001b[0m\n\u001b[0m",
      "\u001b[1;31mNameError\u001b[0m: name 'country_metrics' is not defined"
     ]
    }
   ],
   "source": [
    "colors = [plt.cm.Accent(i) for i in np.linspace(0, 1, country_metrics.shape[0])]"
   ]
  },
  {
   "cell_type": "code",
   "execution_count": 309,
   "metadata": {
    "collapsed": false
   },
   "outputs": [
    {
     "data": {
      "image/png": "[encoded data removed]",
      "text/plain": [
       "<matplotlib.figure.Figure at 0x7f92cf05c080>"
      ]
     },
     "metadata": {},
     "output_type": "display_data"
    }
   ],
   "source": [
    "fig, axes = plt.subplots(nrows=2, ncols=2, figsize=(9, 10))\n",
    "ax1, ax2, ax3, ax4 = axes.flatten() \n",
    "fig.subplots_adjust(hspace=.5, wspace=.3)\n",
    "\n",
    "#first plot\n",
    "df_purchases[\"total_sales\"].plot(kind='pie',\n",
    "                                 ax=ax1, \n",
    "                                 startangle=-90,\n",
    "                                 colormap=plt.cm.Accent, \n",
    "                                 legend=False,\n",
    "                                 title='Total sales breakdown by country'\n",
    "                                )\n",
    "ax1.set_ylabel('')\n",
    "\n",
    "#second plot\n",
    "columns = [\"total_sales\",\"num_customers\"]\n",
    "df_purcahses_per = df_purchases[columns].copy()\n",
    "\n",
    "for c in columns:\n",
    "    df_purcahses_per[c] = (df_purcahses_per[c]/df_purcahses_per[c].sum()) * 100\n",
    "\n",
    "df_purcahses_per.plot(kind='bar',\n",
    "                      ax =ax2,\n",
    "                      legend=False,\n",
    "                      title=\"Sles by country \\n number of customers vs total sales\"\n",
    "                     )\n",
    "ax2.set_xlabel('')\n",
    "ax2.tick_params(top='off',\n",
    "                right='off',\n",
    "                left='off',\n",
    "                bottom='off')\n",
    "ax2.spines['top'].set_visible(False)\n",
    "ax2.spines['right'].set_visible(False)\n",
    "\n",
    "#third plot\n",
    "column = [\"avg_order_value\"]\n",
    "df_purchases_aov = df_purchases[column].copy()\n",
    "diff_df_purchases_aov = (df_purchases_aov*100)/df_purchases_aov.mean()-100\n",
    "diff_df_purchases_aov.plot(kind='bar', \n",
    "                           ax=ax3, \n",
    "                           legend=False,\n",
    "                           color=colors,\n",
    "                           #legend=False,\n",
    "                           title='Average order value \\n Percent difference from mean'\n",
    "                          )\n",
    "ax3.set_xlabel('')\n",
    "\n",
    "ax3.tick_params(top='off',\n",
    "                left='off',\n",
    "                bottom='off',\n",
    "                right='off'\n",
    "                )\n",
    "\n",
    "ax3.spines['top'].set_visible(False)\n",
    "ax3.spines['bottom'].set_visible(False)\n",
    "ax3.spines['right'].set_visible(False)\n",
    "\n",
    "df_purchases[\"avg_order_value\"].plot(kind='bar', \n",
    "                                     ax=ax4, \n",
    "                                     color=colors,\n",
    "                                     legend=False,\n",
    "                                     title=\"Average order value per country\"\n",
    "                                    )\n",
    "ax4.set_xlabel('')\n",
    "\n",
    "plt.show()\n"
   ]
  },
  {
   "cell_type": "markdown",
   "metadata": {},
   "source": [
    "<h4> Observations </h4>\n",
    "- USA is top in number of customers and total sales\n",
    "- Average sales per customer is high in Czech Republic\n",
    "- Average order value is high in Czech Republic\n",
    "- Denmark is with lowest sales"
   ]
  },
  {
   "cell_type": "markdown",
   "metadata": {},
   "source": [
    "<h1>Album vs Track 1</h1>"
   ]
  },
  {
   "cell_type": "code",
   "execution_count": null,
   "metadata": {
    "collapsed": true
   },
   "outputs": [],
   "source": [
    "sq_album_vs_tracks = '''\n",
    "WITH invoice_first_track AS\n",
    "    (\n",
    "    SELECT \n",
    "    il.invoice_id,\n",
    "    MIN(il.track_id) min_track_id\n",
    "    FROM invoice_line il\n",
    "    GROUP BY il.invoice_id\n",
    "    )\n",
    "\n",
    "SELECT\n",
    "album_purchase,\n",
    "count(invoice_id) number_of_invoices,\n",
    "CAST(count(invoice_id) as FLOAT)/(\n",
    "                                    SELECT COUNT(1) FROM invoice) as pct_invoices\n",
    "\n",
    "FROM\n",
    "(\n",
    "    SELECT \n",
    "    ift.*,\n",
    "    CASE \n",
    "        WHEN\n",
    "            (\n",
    "            SELECT t.track_id FROM track t\n",
    "            WHERE t.album_id  = (SELECT t2.album_id FROM track t2\n",
    "                                   WHERE t2.track_id = ift.min_track_id\n",
    "                                    )\n",
    "            EXCEPT \n",
    "            SELECT il2.track_id FROM invoice_line il2\n",
    "            WHERE il2.invoice_id = ift.invoice_id\n",
    "            ) IS NULL \n",
    "            THEN 'yes'\n",
    "            ELSE 'no'\n",
    "            END as album_purchase\n",
    "    FROM invoice_first_track ift\n",
    ")\n",
    "group by album_purchase\n",
    "    \n",
    "'''"
   ]
  },
  {
   "cell_type": "code",
   "execution_count": 336,
   "metadata": {
    "collapsed": false
   },
   "outputs": [],
   "source": [
    "df_album_vs_tracks = run_query(sq_album_vs_tracks)"
   ]
  },
  {
   "cell_type": "code",
   "execution_count": 337,
   "metadata": {
    "collapsed": false
   },
   "outputs": [
    {
     "data": {
      "text/html": [
       "<div>\n",
       "<table border=\"1\" class=\"dataframe\">\n",
       "  <thead>\n",
       "    <tr style=\"text-align: right;\">\n",
       "      <th></th>\n",
       "      <th>album_purchase</th>\n",
       "      <th>number_of_invoices</th>\n",
       "      <th>pct_invoices</th>\n",
       "    </tr>\n",
       "  </thead>\n",
       "  <tbody>\n",
       "    <tr>\n",
       "      <th>0</th>\n",
       "      <td>no</td>\n",
       "      <td>497</td>\n",
       "      <td>0.809446</td>\n",
       "    </tr>\n",
       "    <tr>\n",
       "      <th>1</th>\n",
       "      <td>yes</td>\n",
       "      <td>117</td>\n",
       "      <td>0.190554</td>\n",
       "    </tr>\n",
       "  </tbody>\n",
       "</table>\n",
       "</div>"
      ],
      "text/plain": [
       "  album_purchase  number_of_invoices  pct_invoices\n",
       "0             no                 497      0.809446\n",
       "1            yes                 117      0.190554"
      ]
     },
     "execution_count": 337,
     "metadata": {},
     "output_type": "execute_result"
    }
   ],
   "source": [
    "df_album_vs_tracks.head(100)"
   ]
  },
  {
   "cell_type": "markdown",
   "metadata": {
    "collapsed": true
   },
   "source": [
    "<h1> Album vs Track 2 </h1>"
   ]
  },
  {
   "cell_type": "code",
   "execution_count": 345,
   "metadata": {
    "collapsed": true
   },
   "outputs": [],
   "source": [
    "sq_album_vs_tracks_2 = '''\n",
    "WITH invoice_first_track AS\n",
    "    (\n",
    "    SELECT \n",
    "    il.invoice_id,\n",
    "    i.customer_id,\n",
    "    MIN(il.track_id) min_track_id\n",
    "    FROM invoice_line il\n",
    "    INNER JOIN invoice i on i.invoice_id = il.invoice_id\n",
    "    GROUP BY il.invoice_id\n",
    "    )\n",
    "\n",
    "SELECT\n",
    "album_purchase,\n",
    "count(invoice_id) number_of_invoices,\n",
    "CAST(count(invoice_id) as FLOAT)/(\n",
    "                                    SELECT COUNT(1) FROM invoice) as pct_invoices\n",
    "\n",
    "FROM\n",
    "(\n",
    "    SELECT \n",
    "    ift.*,\n",
    "    CASE \n",
    "        WHEN\n",
    "            (\n",
    "            SELECT t.track_id FROM track t\n",
    "            WHERE t.album_id  = (SELECT t2.album_id FROM track t2\n",
    "                                   WHERE t2.track_id = ift.min_track_id\n",
    "                                    )\n",
    "            EXCEPT \n",
    "            SELECT il2.track_id FROM invoice_line il2\n",
    "            INNER JOIN invoice i2 on i2.invoice_id = il2.invoice_id\n",
    "            INNER JOIN track t2 on t2.track_id =il2.track_id\n",
    "            WHERE \n",
    "            il2.invoice_id <= ift.invoice_id\n",
    "            AND i2.customer_id = ift.customer_id\n",
    "            AND t2.album_id = (SELECT t3.album_id FROM track t3\n",
    "                                   WHERE t3.track_id = ift.min_track_id\n",
    "                                    )\n",
    "            \n",
    "            ) IS NULL \n",
    "            THEN 'yes'\n",
    "            ELSE 'no'\n",
    "            END as album_purchase\n",
    "    FROM invoice_first_track ift\n",
    ")\n",
    "group by album_purchase\n",
    "    \n",
    "'''"
   ]
  },
  {
   "cell_type": "code",
   "execution_count": 346,
   "metadata": {
    "collapsed": false
   },
   "outputs": [],
   "source": [
    "df_album_vs_tracks_2 = run_query(sq_album_vs_tracks_2)"
   ]
  },
  {
   "cell_type": "code",
   "execution_count": 349,
   "metadata": {
    "collapsed": false
   },
   "outputs": [
    {
     "data": {
      "text/html": [
       "<div>\n",
       "<table border=\"1\" class=\"dataframe\">\n",
       "  <thead>\n",
       "    <tr style=\"text-align: right;\">\n",
       "      <th></th>\n",
       "      <th>album_purchase</th>\n",
       "      <th>number_of_invoices</th>\n",
       "      <th>pct_invoices</th>\n",
       "    </tr>\n",
       "  </thead>\n",
       "  <tbody>\n",
       "    <tr>\n",
       "      <th>0</th>\n",
       "      <td>no</td>\n",
       "      <td>475</td>\n",
       "      <td>0.773616</td>\n",
       "    </tr>\n",
       "    <tr>\n",
       "      <th>1</th>\n",
       "      <td>yes</td>\n",
       "      <td>139</td>\n",
       "      <td>0.226384</td>\n",
       "    </tr>\n",
       "  </tbody>\n",
       "</table>\n",
       "</div>"
      ],
      "text/plain": [
       "  album_purchase  number_of_invoices  pct_invoices\n",
       "0             no                 475      0.773616\n",
       "1            yes                 139      0.226384"
      ]
     },
     "execution_count": 349,
     "metadata": {},
     "output_type": "execute_result"
    }
   ],
   "source": [
    "df_album_vs_tracks_2.head(100)"
   ]
  },
  {
   "cell_type": "markdown",
   "metadata": {},
   "source": [
    "<h4> Observations </h4>\n",
    "- Pick tracks over purchase"
   ]
  },
  {
   "cell_type": "code",
   "execution_count": null,
   "metadata": {
    "collapsed": true
   },
   "outputs": [],
   "source": []
  }
 ],
 "metadata": {
  "kernelspec": {
   "display_name": "Python 3",
   "language": "python",
   "name": "python3"
  },
  "language_info": {
   "codemirror_mode": {
    "name": "ipython",
    "version": 3
   },
   "file_extension": ".py",
   "mimetype": "text/x-python",
   "name": "python",
   "nbconvert_exporter": "python",
   "pygments_lexer": "ipython3",
   "version": "3.4.3"
  }
 },
 "nbformat": 4,
 "nbformat_minor": 2
}
